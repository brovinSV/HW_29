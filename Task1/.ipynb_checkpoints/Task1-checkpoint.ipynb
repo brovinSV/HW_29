{
 "cells": [
  {
   "cell_type": "code",
   "execution_count": null,
   "id": "dcf6f953",
   "metadata": {},
   "outputs": [],
   "source": [
    "\"\"\"\n",
    "1. Протягом 50 років вимірювався рівень води навесні під час повені відносно умовного нуля. Результати\n",
    "вимірювання наведено у вигляді інтервального статичного розподілу:\n",
    "x_i = 0-24, 24-48, 48-72, 72-96, 96-120, 120-144, 144-168, 168-192, 192-216\n",
    "n_i = 1, 2, 4, 6, 12, 16, 6, 2, 1\n",
    "За заданими статистичними розподілами вибірки висунути H_0 про закон розподілу ознаки генеральної\n",
    "сукупності і при рівні значущості α=0,01 перевірити її правильність.\n",
    "\"\"\""
   ]
  },
  {
   "cell_type": "code",
   "execution_count": 1,
   "id": "24bd3bfa",
   "metadata": {},
   "outputs": [],
   "source": [
    "import numpy as np\n",
    "from scipy.stats import norm\n",
    "# задані інтервали\n",
    "x = np.array([0, 24, 48, 72, 96, 120, 144, 168, 192, 216])\n",
    "\n",
    "# спостерігаючі частоти\n",
    "n = np.array([1, 2, 4, 6, 12, 16, 6, 2, 1])"
   ]
  },
  {
   "cell_type": "code",
   "execution_count": 2,
   "id": "0fc8626b",
   "metadata": {},
   "outputs": [
    {
     "data": {
      "text/plain": [
       "50"
      ]
     },
     "execution_count": 2,
     "metadata": {},
     "output_type": "execute_result"
    }
   ],
   "source": [
    "# загальна кількість спостережень\n",
    "N = np.sum(n)\n",
    "N"
   ]
  },
  {
   "cell_type": "code",
   "execution_count": 3,
   "id": "0e14d3aa",
   "metadata": {},
   "outputs": [],
   "source": [
    "# ймовірності попадання в інтервали\n",
    "p = np.zeros(len(x) - 1)\n",
    "for i in range(len(p)):\n",
    "    h = (x[i+1] - x[i]) / 2\n",
    "    p[i] = norm.cdf(x[i+1], loc=100, scale=50) - norm.cdf(x[i], loc=100, scale=50)"
   ]
  },
  {
   "cell_type": "code",
   "execution_count": 4,
   "id": "adfe77b6",
   "metadata": {},
   "outputs": [
    {
     "data": {
      "text/plain": [
       "array([2.07526779, 4.24572313, 6.92848843, 9.01894546, 9.36515568,\n",
       "       7.75743018, 5.12573464, 2.70154216, 1.135684  ])"
      ]
     },
     "execution_count": 4,
     "metadata": {},
     "output_type": "execute_result"
    }
   ],
   "source": [
    "# очікувані частоти\n",
    "E = N * p\n",
    "E"
   ]
  },
  {
   "cell_type": "code",
   "execution_count": 5,
   "id": "b535b063",
   "metadata": {},
   "outputs": [
    {
     "data": {
      "text/plain": [
       "13.840176101564193"
      ]
     },
     "execution_count": 5,
     "metadata": {},
     "output_type": "execute_result"
    }
   ],
   "source": [
    "# статистика хі-квадрат\n",
    "chi2 = np.sum((n - E)**2 / E)\n",
    "chi2"
   ]
  },
  {
   "cell_type": "code",
   "execution_count": 6,
   "id": "a4624a95",
   "metadata": {},
   "outputs": [
    {
     "data": {
      "text/plain": [
       "7"
      ]
     },
     "execution_count": 6,
     "metadata": {},
     "output_type": "execute_result"
    }
   ],
   "source": [
    "# кількість ступенів свободи\n",
    "df = len(x) - 1 - 2\n",
    "df"
   ]
  },
  {
   "cell_type": "code",
   "execution_count": 7,
   "id": "328147de",
   "metadata": {},
   "outputs": [],
   "source": [
    "# табличне значення на рівні значимості alpha = 0.01 та числі ступенів свободи df\n",
    "chi2_table = 23.21"
   ]
  },
  {
   "cell_type": "code",
   "execution_count": 8,
   "id": "eaab22f1",
   "metadata": {},
   "outputs": [
    {
     "name": "stdout",
     "output_type": "stream",
     "text": [
      "H_0 не відкидається\n"
     ]
    }
   ],
   "source": [
    "# перевірка гіпотези\n",
    "if chi2 < chi2_table:\n",
    "    print(\"H_0 не відкидається\")\n",
    "else:\n",
    "    print(\"H_0 відкидається\")"
   ]
  },
  {
   "cell_type": "code",
   "execution_count": null,
   "id": "3c816d6b",
   "metadata": {},
   "outputs": [],
   "source": []
  }
 ],
 "metadata": {
  "kernelspec": {
   "display_name": "Python 3",
   "language": "python",
   "name": "python3"
  },
  "language_info": {
   "codemirror_mode": {
    "name": "ipython",
    "version": 3
   },
   "file_extension": ".py",
   "mimetype": "text/x-python",
   "name": "python",
   "nbconvert_exporter": "python",
   "pygments_lexer": "ipython3",
   "version": "3.8.10"
  }
 },
 "nbformat": 4,
 "nbformat_minor": 5
}
