{
 "cells": [
  {
   "cell_type": "code",
   "execution_count": null,
   "id": "a962b0dc",
   "metadata": {},
   "outputs": [],
   "source": [
    "\"\"\"\n",
    "Випадкова величина X розподілена рівномірно. Знайти щільність її розподілу, якщо P(X>=3)0,4, а\n",
    "математичне сподівання рівне M(X)=2.\n",
    "\"\"\""
   ]
  },
  {
   "cell_type": "code",
   "execution_count": 1,
   "id": "b916b3cd",
   "metadata": {},
   "outputs": [],
   "source": [
    "from sympy import symbols, solve\n",
    "# задані умови\n",
    "P = 0.4\n",
    "M = 2\n",
    "# параметри розподілу\n",
    "a = symbols('a')\n",
    "b = symbols('b')"
   ]
  },
  {
   "cell_type": "code",
   "execution_count": 3,
   "id": "91c43afb",
   "metadata": {},
   "outputs": [
    {
     "data": {
      "text/latex": [
       "$\\displaystyle \\frac{a}{2} + \\frac{b}{2} - 2$"
      ],
      "text/plain": [
       "a/2 + b/2 - 2"
      ]
     },
     "execution_count": 3,
     "metadata": {},
     "output_type": "execute_result"
    }
   ],
   "source": [
    "# М(Х) = (а + b)/2\n",
    "eq1 = (a + b)/2 - M\n",
    "eq1"
   ]
  },
  {
   "cell_type": "code",
   "execution_count": 4,
   "id": "e8583da1",
   "metadata": {},
   "outputs": [
    {
     "data": {
      "text/latex": [
       "$\\displaystyle -0.4 + \\frac{b - 3}{- a + b}$"
      ],
      "text/plain": [
       "-0.4 + (b - 3)/(-a + b)"
      ]
     },
     "execution_count": 4,
     "metadata": {},
     "output_type": "execute_result"
    }
   ],
   "source": [
    "# P(X >= x) = (b - x) / (b - a)\n",
    "eq2 = (b - 3) / (b - a) - P\n",
    "eq2"
   ]
  },
  {
   "cell_type": "code",
   "execution_count": 5,
   "id": "1f98b995",
   "metadata": {},
   "outputs": [],
   "source": [
    "sol = solve((eq1, eq2), (a, b))\n"
   ]
  },
  {
   "cell_type": "code",
   "execution_count": 9,
   "id": "fe4c7829",
   "metadata": {},
   "outputs": [],
   "source": [
    "a = float(sol[a])\n",
    "b = float(sol[b])"
   ]
  },
  {
   "cell_type": "code",
   "execution_count": 11,
   "id": "39a44f19",
   "metadata": {},
   "outputs": [
    {
     "name": "stdout",
     "output_type": "stream",
     "text": [
      "Параметри рівномірного розподілу: a = -3.0, b = 7.0\n"
     ]
    }
   ],
   "source": [
    "print(f\"Параметри рівномірного розподілу: a = {a}, b = {b}\")"
   ]
  },
  {
   "cell_type": "code",
   "execution_count": 12,
   "id": "572ed153",
   "metadata": {},
   "outputs": [],
   "source": [
    "# Обчислення щільності розподілу\n",
    "def f(x):\n",
    "    return 1 / (b - a) if a <= x <= b else 0"
   ]
  },
  {
   "cell_type": "code",
   "execution_count": 16,
   "id": "c0ed03d4",
   "metadata": {},
   "outputs": [
    {
     "name": "stdout",
     "output_type": "stream",
     "text": [
      "Щільності розподілу:\n",
      "f(-3.0) = 0.1\n",
      "f(-2.0) = 0.1\n",
      "f(-1.0) = 0.1\n",
      "f(0.0) = 0.1\n",
      "f(1.0) = 0.1\n",
      "f(2.0) = 0.1\n",
      "f(3.0) = 0.1\n",
      "f(4.0) = 0.1\n",
      "f(5.0) = 0.1\n",
      "f(6.0) = 0.1\n",
      "f(7.0) = 0.1\n"
     ]
    }
   ],
   "source": [
    "print(\"Щільності розподілу:\")\n",
    "for i in range(11):\n",
    "    x = i / 10 * (b - a) + a\n",
    "    print(f\"f({x}) = {f(x)}\")"
   ]
  },
  {
   "cell_type": "code",
   "execution_count": null,
   "id": "b778724f",
   "metadata": {},
   "outputs": [],
   "source": []
  }
 ],
 "metadata": {
  "kernelspec": {
   "display_name": "Python 3",
   "language": "python",
   "name": "python3"
  },
  "language_info": {
   "codemirror_mode": {
    "name": "ipython",
    "version": 3
   },
   "file_extension": ".py",
   "mimetype": "text/x-python",
   "name": "python",
   "nbconvert_exporter": "python",
   "pygments_lexer": "ipython3",
   "version": "3.8.10"
  }
 },
 "nbformat": 4,
 "nbformat_minor": 5
}
